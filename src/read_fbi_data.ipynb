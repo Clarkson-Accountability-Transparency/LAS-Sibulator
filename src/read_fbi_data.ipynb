{
 "cells": [
  {
   "cell_type": "code",
   "execution_count": 16,
   "id": "technological-defendant",
   "metadata": {},
   "outputs": [],
   "source": [
    "import pandas as pd\n",
    "import numpy as np\n",
    "import io\n",
    "import json"
   ]
  },
  {
   "cell_type": "code",
   "execution_count": 2,
   "id": "alleged-johnston",
   "metadata": {},
   "outputs": [],
   "source": [
    "f = open('fbi_dataset_raw.txt', 'r')\n",
    "text = f.read().replace('<', '').replace('>', '')\n",
    "f.close()"
   ]
  },
  {
   "cell_type": "code",
   "execution_count": 3,
   "id": "changing-fireplace",
   "metadata": {},
   "outputs": [],
   "source": [
    "populations = [t.strip() for t in text.split('\\n\\n')[1:] if t[:3] != 'ID#']\n",
    "data = [t.strip() for t in text.split('\\n\\n')[1:] if t[:3] == 'ID#']\n",
    "allele_dfs = []\n",
    "for d in data:\n",
    "    temp = []\n",
    "    for s in d.split('\\n'):\n",
    "        temp.append( [t.strip() for t in s.split('\\t') if t != ''] )\n",
    "    columns = []\n",
    "    for t in temp[0]:\n",
    "        if t == 'ID#':\n",
    "            columns.append(t)\n",
    "        else:\n",
    "            columns.append(t)\n",
    "            columns.append(t + '.1')\n",
    "    temp[0] = columns\n",
    "    allele_dfs.append( pd.DataFrame(temp[1:], columns=temp[0]) )"
   ]
  },
  {
   "cell_type": "code",
   "execution_count": 11,
   "id": "close-typing",
   "metadata": {},
   "outputs": [
    {
     "data": {
      "text/plain": [
       "{'AFRICAN AMERICAN': 210,\n",
       " 'U.S. CAUCASIAN': 203,\n",
       " 'SOUTHWESTERN HISPANIC': 209,\n",
       " 'BAHAMIAN': 162,\n",
       " 'JAMAICAN': 244,\n",
       " 'TRINIDADIAN': 85}"
      ]
     },
     "execution_count": 11,
     "metadata": {},
     "output_type": "execute_result"
    }
   ],
   "source": [
    "metadata = dict(zip(populations, [df.shape[0] for df in allele_dfs]))\n",
    "metadata"
   ]
  },
  {
   "cell_type": "code",
   "execution_count": 17,
   "id": "illegal-separate",
   "metadata": {},
   "outputs": [],
   "source": [
    "with open('fbi_dataset_metadata.json', 'w') as f:\n",
    "    json.dump(metadata, f)"
   ]
  },
  {
   "cell_type": "code",
   "execution_count": 12,
   "id": "interesting-church",
   "metadata": {},
   "outputs": [
    {
     "data": {
      "text/plain": [
       "1113"
      ]
     },
     "execution_count": 12,
     "metadata": {},
     "output_type": "execute_result"
    }
   ],
   "source": [
    "np.sum(list(metadata.values()))"
   ]
  },
  {
   "cell_type": "code",
   "execution_count": 8,
   "id": "coupled-there",
   "metadata": {},
   "outputs": [],
   "source": [
    "dfs_by_pop = dict(zip(populations, allele_dfs))"
   ]
  },
  {
   "cell_type": "code",
   "execution_count": 14,
   "id": "detailed-regular",
   "metadata": {},
   "outputs": [
    {
     "name": "stdout",
     "output_type": "stream",
     "text": [
      "(1113, 41)\n"
     ]
    }
   ],
   "source": [
    "allele_dfs = pd.concat(allele_dfs, ignore_index=True)\n",
    "print(allele_dfs.drop_duplicates().shape)"
   ]
  },
  {
   "cell_type": "code",
   "execution_count": 6,
   "id": "together-toilet",
   "metadata": {},
   "outputs": [
    {
     "data": {
      "text/html": [
       "<div>\n",
       "<style scoped>\n",
       "    .dataframe tbody tr th:only-of-type {\n",
       "        vertical-align: middle;\n",
       "    }\n",
       "\n",
       "    .dataframe tbody tr th {\n",
       "        vertical-align: top;\n",
       "    }\n",
       "\n",
       "    .dataframe thead th {\n",
       "        text-align: right;\n",
       "    }\n",
       "</style>\n",
       "<table border=\"1\" class=\"dataframe\">\n",
       "  <thead>\n",
       "    <tr style=\"text-align: right;\">\n",
       "      <th></th>\n",
       "      <th>ID#</th>\n",
       "      <th>D3S1358</th>\n",
       "      <th>D3S1358.1</th>\n",
       "      <th>vWA</th>\n",
       "      <th>vWA.1</th>\n",
       "      <th>FGA</th>\n",
       "      <th>FGA.1</th>\n",
       "      <th>D8S1179</th>\n",
       "      <th>D8S1179.1</th>\n",
       "      <th>D21S11</th>\n",
       "      <th>...</th>\n",
       "      <th>LDLR</th>\n",
       "      <th>LDLR.1</th>\n",
       "      <th>GYPA</th>\n",
       "      <th>GYPA.1</th>\n",
       "      <th>HBGG</th>\n",
       "      <th>HBGG.1</th>\n",
       "      <th>D7S8</th>\n",
       "      <th>D7S8.1</th>\n",
       "      <th>Gc</th>\n",
       "      <th>Gc.1</th>\n",
       "    </tr>\n",
       "  </thead>\n",
       "  <tbody>\n",
       "    <tr>\n",
       "      <th>count</th>\n",
       "      <td>1113</td>\n",
       "      <td>1113</td>\n",
       "      <td>1113</td>\n",
       "      <td>1113</td>\n",
       "      <td>1113</td>\n",
       "      <td>1113</td>\n",
       "      <td>1113</td>\n",
       "      <td>1113</td>\n",
       "      <td>1113</td>\n",
       "      <td>1113</td>\n",
       "      <td>...</td>\n",
       "      <td>622</td>\n",
       "      <td>622</td>\n",
       "      <td>622</td>\n",
       "      <td>622</td>\n",
       "      <td>622</td>\n",
       "      <td>622</td>\n",
       "      <td>622</td>\n",
       "      <td>622</td>\n",
       "      <td>622</td>\n",
       "      <td>622</td>\n",
       "    </tr>\n",
       "    <tr>\n",
       "      <th>unique</th>\n",
       "      <td>1113</td>\n",
       "      <td>10</td>\n",
       "      <td>7</td>\n",
       "      <td>9</td>\n",
       "      <td>9</td>\n",
       "      <td>20</td>\n",
       "      <td>21</td>\n",
       "      <td>10</td>\n",
       "      <td>10</td>\n",
       "      <td>15</td>\n",
       "      <td>...</td>\n",
       "      <td>3</td>\n",
       "      <td>3</td>\n",
       "      <td>3</td>\n",
       "      <td>3</td>\n",
       "      <td>4</td>\n",
       "      <td>4</td>\n",
       "      <td>3</td>\n",
       "      <td>3</td>\n",
       "      <td>4</td>\n",
       "      <td>4</td>\n",
       "    </tr>\n",
       "    <tr>\n",
       "      <th>top</th>\n",
       "      <td>H401</td>\n",
       "      <td>15</td>\n",
       "      <td>16</td>\n",
       "      <td>16</td>\n",
       "      <td>18</td>\n",
       "      <td>22</td>\n",
       "      <td>24</td>\n",
       "      <td>13</td>\n",
       "      <td>14</td>\n",
       "      <td>28</td>\n",
       "      <td>...</td>\n",
       "      <td>A</td>\n",
       "      <td>B</td>\n",
       "      <td>A</td>\n",
       "      <td>B</td>\n",
       "      <td>A</td>\n",
       "      <td>B</td>\n",
       "      <td>A</td>\n",
       "      <td>B</td>\n",
       "      <td>B</td>\n",
       "      <td>C</td>\n",
       "    </tr>\n",
       "    <tr>\n",
       "      <th>freq</th>\n",
       "      <td>1</td>\n",
       "      <td>505</td>\n",
       "      <td>342</td>\n",
       "      <td>355</td>\n",
       "      <td>296</td>\n",
       "      <td>239</td>\n",
       "      <td>233</td>\n",
       "      <td>311</td>\n",
       "      <td>350</td>\n",
       "      <td>319</td>\n",
       "      <td>...</td>\n",
       "      <td>377</td>\n",
       "      <td>520</td>\n",
       "      <td>497</td>\n",
       "      <td>438</td>\n",
       "      <td>392</td>\n",
       "      <td>370</td>\n",
       "      <td>516</td>\n",
       "      <td>385</td>\n",
       "      <td>274</td>\n",
       "      <td>376</td>\n",
       "    </tr>\n",
       "  </tbody>\n",
       "</table>\n",
       "<p>4 rows × 41 columns</p>\n",
       "</div>"
      ],
      "text/plain": [
       "         ID# D3S1358 D3S1358.1   vWA vWA.1   FGA FGA.1 D8S1179 D8S1179.1  \\\n",
       "count   1113    1113      1113  1113  1113  1113  1113    1113      1113   \n",
       "unique  1113      10         7     9     9    20    21      10        10   \n",
       "top     H401      15        16    16    18    22    24      13        14   \n",
       "freq       1     505       342   355   296   239   233     311       350   \n",
       "\n",
       "       D21S11  ... LDLR LDLR.1 GYPA GYPA.1 HBGG HBGG.1 D7S8 D7S8.1   Gc Gc.1  \n",
       "count    1113  ...  622    622  622    622  622    622  622    622  622  622  \n",
       "unique     15  ...    3      3    3      3    4      4    3      3    4    4  \n",
       "top        28  ...    A      B    A      B    A      B    A      B    B    C  \n",
       "freq      319  ...  377    520  497    438  392    370  516    385  274  376  \n",
       "\n",
       "[4 rows x 41 columns]"
      ]
     },
     "execution_count": 6,
     "metadata": {},
     "output_type": "execute_result"
    }
   ],
   "source": [
    "allele_dfs.describe()"
   ]
  },
  {
   "cell_type": "code",
   "execution_count": 7,
   "id": "sustained-mobility",
   "metadata": {},
   "outputs": [],
   "source": [
    "allele_df.to_csv('fbi_dataset.csv', index=False)"
   ]
  },
  {
   "cell_type": "code",
   "execution_count": null,
   "id": "dense-straight",
   "metadata": {},
   "outputs": [],
   "source": []
  }
 ],
 "metadata": {
  "kernelspec": {
   "display_name": "Python 3",
   "language": "python",
   "name": "python3"
  },
  "language_info": {
   "codemirror_mode": {
    "name": "ipython",
    "version": 3
   },
   "file_extension": ".py",
   "mimetype": "text/x-python",
   "name": "python",
   "nbconvert_exporter": "python",
   "pygments_lexer": "ipython3",
   "version": "3.8.5"
  }
 },
 "nbformat": 4,
 "nbformat_minor": 5
}
