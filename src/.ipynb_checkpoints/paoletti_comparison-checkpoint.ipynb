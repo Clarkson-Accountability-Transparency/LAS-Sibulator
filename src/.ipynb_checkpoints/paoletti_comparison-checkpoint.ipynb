{
 "cells": [
  {
   "cell_type": "code",
   "execution_count": 50,
   "id": "false-australia",
   "metadata": {},
   "outputs": [],
   "source": [
    "import pandas as pd\n",
    "import numpy as np\n",
    "import matplotlib.pyplot as plt\n",
    "import seaborn as sns\n",
    "import json\n",
    "\n",
    "from sibulator import *"
   ]
  },
  {
   "cell_type": "code",
   "execution_count": 26,
   "id": "colonial-shaft",
   "metadata": {},
   "outputs": [],
   "source": [
    "fbi_samples = pd.read_csv('fbi_dataset.csv').rename({'THO1':'TH01', 'THO1.1':'TH01.1'}, axis=1)\n",
    "with open('fbi_dataset_metadata.json', 'r') as f:\n",
    "    metadata = json.load(f)"
   ]
  },
  {
   "cell_type": "code",
   "execution_count": 27,
   "id": "relative-central",
   "metadata": {},
   "outputs": [
    {
     "data": {
      "text/html": [
       "<div>\n",
       "<style scoped>\n",
       "    .dataframe tbody tr th:only-of-type {\n",
       "        vertical-align: middle;\n",
       "    }\n",
       "\n",
       "    .dataframe tbody tr th {\n",
       "        vertical-align: top;\n",
       "    }\n",
       "\n",
       "    .dataframe thead th {\n",
       "        text-align: right;\n",
       "    }\n",
       "</style>\n",
       "<table border=\"1\" class=\"dataframe\">\n",
       "  <thead>\n",
       "    <tr style=\"text-align: right;\">\n",
       "      <th></th>\n",
       "      <th>ID#</th>\n",
       "      <th>D3S1358</th>\n",
       "      <th>D3S1358.1</th>\n",
       "      <th>vWA</th>\n",
       "      <th>vWA.1</th>\n",
       "      <th>FGA</th>\n",
       "      <th>FGA.1</th>\n",
       "      <th>D8S1179</th>\n",
       "      <th>D8S1179.1</th>\n",
       "      <th>D21S11</th>\n",
       "      <th>...</th>\n",
       "      <th>LDLR</th>\n",
       "      <th>LDLR.1</th>\n",
       "      <th>GYPA</th>\n",
       "      <th>GYPA.1</th>\n",
       "      <th>HBGG</th>\n",
       "      <th>HBGG.1</th>\n",
       "      <th>D7S8</th>\n",
       "      <th>D7S8.1</th>\n",
       "      <th>Gc</th>\n",
       "      <th>Gc.1</th>\n",
       "    </tr>\n",
       "  </thead>\n",
       "  <tbody>\n",
       "    <tr>\n",
       "      <th>0</th>\n",
       "      <td>B0600</td>\n",
       "      <td>15.0</td>\n",
       "      <td>17</td>\n",
       "      <td>15</td>\n",
       "      <td>16</td>\n",
       "      <td>23.0</td>\n",
       "      <td>27.0</td>\n",
       "      <td>12</td>\n",
       "      <td>13</td>\n",
       "      <td>28.0</td>\n",
       "      <td>...</td>\n",
       "      <td>B</td>\n",
       "      <td>B</td>\n",
       "      <td>A</td>\n",
       "      <td>A</td>\n",
       "      <td>B</td>\n",
       "      <td>B</td>\n",
       "      <td>A</td>\n",
       "      <td>A</td>\n",
       "      <td>B</td>\n",
       "      <td>B</td>\n",
       "    </tr>\n",
       "    <tr>\n",
       "      <th>1</th>\n",
       "      <td>B0601</td>\n",
       "      <td>14.0</td>\n",
       "      <td>15</td>\n",
       "      <td>16</td>\n",
       "      <td>16</td>\n",
       "      <td>23.0</td>\n",
       "      <td>24.0</td>\n",
       "      <td>14</td>\n",
       "      <td>17</td>\n",
       "      <td>28.0</td>\n",
       "      <td>...</td>\n",
       "      <td>A</td>\n",
       "      <td>B</td>\n",
       "      <td>A</td>\n",
       "      <td>B</td>\n",
       "      <td>A</td>\n",
       "      <td>B</td>\n",
       "      <td>A</td>\n",
       "      <td>A</td>\n",
       "      <td>B</td>\n",
       "      <td>B</td>\n",
       "    </tr>\n",
       "    <tr>\n",
       "      <th>2</th>\n",
       "      <td>B0602</td>\n",
       "      <td>15.0</td>\n",
       "      <td>15</td>\n",
       "      <td>16</td>\n",
       "      <td>17</td>\n",
       "      <td>24.0</td>\n",
       "      <td>25.0</td>\n",
       "      <td>11</td>\n",
       "      <td>13</td>\n",
       "      <td>30.0</td>\n",
       "      <td>...</td>\n",
       "      <td>B</td>\n",
       "      <td>B</td>\n",
       "      <td>A</td>\n",
       "      <td>B</td>\n",
       "      <td>A</td>\n",
       "      <td>B</td>\n",
       "      <td>A</td>\n",
       "      <td>A</td>\n",
       "      <td>B</td>\n",
       "      <td>C</td>\n",
       "    </tr>\n",
       "    <tr>\n",
       "      <th>3</th>\n",
       "      <td>B0603</td>\n",
       "      <td>16.0</td>\n",
       "      <td>16</td>\n",
       "      <td>17</td>\n",
       "      <td>18</td>\n",
       "      <td>21.0</td>\n",
       "      <td>22.0</td>\n",
       "      <td>11</td>\n",
       "      <td>14</td>\n",
       "      <td>27.0</td>\n",
       "      <td>...</td>\n",
       "      <td>A</td>\n",
       "      <td>A</td>\n",
       "      <td>A</td>\n",
       "      <td>A</td>\n",
       "      <td>A</td>\n",
       "      <td>B</td>\n",
       "      <td>A</td>\n",
       "      <td>B</td>\n",
       "      <td>B</td>\n",
       "      <td>C</td>\n",
       "    </tr>\n",
       "    <tr>\n",
       "      <th>4</th>\n",
       "      <td>B0604</td>\n",
       "      <td>14.0</td>\n",
       "      <td>14</td>\n",
       "      <td>14</td>\n",
       "      <td>14</td>\n",
       "      <td>20.0</td>\n",
       "      <td>27.0</td>\n",
       "      <td>12</td>\n",
       "      <td>15</td>\n",
       "      <td>29.0</td>\n",
       "      <td>...</td>\n",
       "      <td>B</td>\n",
       "      <td>B</td>\n",
       "      <td>A</td>\n",
       "      <td>A</td>\n",
       "      <td>A</td>\n",
       "      <td>B</td>\n",
       "      <td>A</td>\n",
       "      <td>B</td>\n",
       "      <td>C</td>\n",
       "      <td>C</td>\n",
       "    </tr>\n",
       "  </tbody>\n",
       "</table>\n",
       "<p>5 rows × 41 columns</p>\n",
       "</div>"
      ],
      "text/plain": [
       "     ID#  D3S1358  D3S1358.1  vWA  vWA.1   FGA  FGA.1  D8S1179  D8S1179.1  \\\n",
       "0  B0600     15.0         17   15     16  23.0   27.0       12         13   \n",
       "1  B0601     14.0         15   16     16  23.0   24.0       14         17   \n",
       "2  B0602     15.0         15   16     17  24.0   25.0       11         13   \n",
       "3  B0603     16.0         16   17     18  21.0   22.0       11         14   \n",
       "4  B0604     14.0         14   14     14  20.0   27.0       12         15   \n",
       "\n",
       "   D21S11  ...  LDLR  LDLR.1  GYPA  GYPA.1  HBGG  HBGG.1  D7S8  D7S8.1  Gc  \\\n",
       "0    28.0  ...     B       B     A       A     B       B     A       A   B   \n",
       "1    28.0  ...     A       B     A       B     A       B     A       A   B   \n",
       "2    30.0  ...     B       B     A       B     A       B     A       A   B   \n",
       "3    27.0  ...     A       A     A       A     A       B     A       B   B   \n",
       "4    29.0  ...     B       B     A       A     A       B     A       B   C   \n",
       "\n",
       "   Gc.1  \n",
       "0     B  \n",
       "1     B  \n",
       "2     C  \n",
       "3     C  \n",
       "4     C  \n",
       "\n",
       "[5 rows x 41 columns]"
      ]
     },
     "execution_count": 27,
     "metadata": {},
     "output_type": "execute_result"
    }
   ],
   "source": [
    "fbi_samples.head()"
   ]
  },
  {
   "cell_type": "code",
   "execution_count": 28,
   "id": "cross-black",
   "metadata": {},
   "outputs": [
    {
     "data": {
      "text/plain": [
       "{'AFRICAN AMERICAN': 210,\n",
       " 'U.S. CAUCASIAN': 203,\n",
       " 'SOUTHWESTERN HISPANIC': 209,\n",
       " 'BAHAMIAN': 162,\n",
       " 'JAMAICAN': 244,\n",
       " 'TRINIDADIAN': 85}"
      ]
     },
     "execution_count": 28,
     "metadata": {},
     "output_type": "execute_result"
    }
   ],
   "source": [
    "metadata"
   ]
  },
  {
   "cell_type": "code",
   "execution_count": 29,
   "id": "initial-finland",
   "metadata": {},
   "outputs": [
    {
     "data": {
      "text/plain": [
       "array([   0,  210,  413,  622,  784, 1028, 1113])"
      ]
     },
     "execution_count": 29,
     "metadata": {},
     "output_type": "execute_result"
    }
   ],
   "source": [
    "starting_idx = np.cumsum([0] + list(metadata.values()))\n",
    "starting_idx"
   ]
  },
  {
   "cell_type": "code",
   "execution_count": 35,
   "id": "decimal-saying",
   "metadata": {},
   "outputs": [
    {
     "name": "stdout",
     "output_type": "stream",
     "text": [
      "ID#\n",
      "HLA-DQA1\n",
      "HLA-DQA1.1\n",
      "LDLR\n",
      "LDLR.1\n",
      "GYPA\n",
      "GYPA.1\n",
      "HBGG\n",
      "HBGG.1\n",
      "D7S8\n",
      "D7S8.1\n",
      "Gc\n",
      "Gc.1\n",
      "13\n"
     ]
    }
   ],
   "source": [
    "float_cols = []\n",
    "for col in fbi_samples:\n",
    "    try:\n",
    "        fbi_samples[col] = fbi_samples[col].astype(float)\n",
    "        if '.1' not in col:\n",
    "            float_cols.append(col)\n",
    "    except:\n",
    "        print(col)\n",
    "float_cols = float_cols[:-1]\n",
    "print(len(float_cols)) # number of loci"
   ]
  },
  {
   "cell_type": "code",
   "execution_count": 36,
   "id": "fifty-queen",
   "metadata": {},
   "outputs": [],
   "source": [
    "known_samples = []\n",
    "for i, row in fbi_samples.iterrows():\n",
    "    sample = {}\n",
    "    for col in float_cols:\n",
    "        sample[col] = row[[col, col + '.1']].values.tolist()\n",
    "    known_samples.append(sample)"
   ]
  },
  {
   "cell_type": "code",
   "execution_count": 37,
   "id": "dietary-anthony",
   "metadata": {},
   "outputs": [
    {
     "data": {
      "text/plain": [
       "dict_keys(['D3S1358', 'D1S1656', 'D2S441', 'D10S1248', 'D13S317', 'Penta E', 'D16S539', 'D18S51', 'D2S1338', 'CSF1PO', 'Penta D', 'TH01', 'vWA', 'D21S11', 'D7S820', 'D5S818', 'TPOX', 'DYS391', 'D8S1179', 'D12S391', 'D19S433', 'FGA', 'D22S1045'])"
      ]
     },
     "execution_count": 37,
     "metadata": {},
     "output_type": "execute_result"
    }
   ],
   "source": [
    "allele_freq.keys()"
   ]
  },
  {
   "cell_type": "code",
   "execution_count": 48,
   "id": "healthy-adaptation",
   "metadata": {},
   "outputs": [],
   "source": [
    "use_freq = 'nist'\n",
    "allele_freq = load_allele_frequencies(use_freq)\n",
    "sample_overlaps = []\n",
    "for i, k in enumerate(metadata.keys()):\n",
    "    if k == 'AFRICAN AMERICAN':\n",
    "        subpop = 'AfAm'\n",
    "    elif k == 'U.S. CAUCASION':\n",
    "        subpop = 'Cauc'\n",
    "    elif k == 'SOUTHWESTERN HISPANIC':\n",
    "        subpop = 'Hisp'\n",
    "    else:\n",
    "        continue\n",
    "        \n",
    "    start_idx = starting_idx[i]\n",
    "    end_idx = starting_idx[i+1]\n",
    "    subpop_samples = known_samples[start_idx:end_idx]\n",
    "    for sample in subpop_samples:\n",
    "        sim_sample = generate_one_sample(sample, allele_freq, subpop)\n",
    "        \n",
    "        overlap = 0\n",
    "        for k in sample.keys():\n",
    "            ks_alleles = sample[k]\n",
    "            ss_alleles = sim_sample[k]\n",
    "            for j in range(len(ks_alleles)):\n",
    "                if ks_alleles[j] == ss_alleles[j]:\n",
    "                    overlap += 1\n",
    "        sample_overlaps.append( overlap )\n",
    "# for sample in known_samples[:10]:\n",
    "#     sample = generate_sibling_samples(known_sample, use_freq, subpop, num_siblings)"
   ]
  },
  {
   "cell_type": "code",
   "execution_count": 55,
   "id": "ahead-craft",
   "metadata": {},
   "outputs": [
    {
     "data": {
      "image/png": "[encoded data removed]",
      "text/plain": [
       "<Figure size 432x288 with 1 Axes>"
      ]
     },
     "metadata": {
      "needs_background": "light"
     },
     "output_type": "display_data"
    }
   ],
   "source": [
    "sns.histplot(sample_overlaps, bins=np.linspace(0,26,27), kde=True)\n",
    "plt.show()"
   ]
  },
  {
   "cell_type": "code",
   "execution_count": null,
   "id": "heated-ordinance",
   "metadata": {},
   "outputs": [],
   "source": []
  }
 ],
 "metadata": {
  "kernelspec": {
   "display_name": "Python 3",
   "language": "python",
   "name": "python3"
  },
  "language_info": {
   "codemirror_mode": {
    "name": "ipython",
    "version": 3
   },
   "file_extension": ".py",
   "mimetype": "text/x-python",
   "name": "python",
   "nbconvert_exporter": "python",
   "pygments_lexer": "ipython3",
   "version": "3.8.5"
  }
 },
 "nbformat": 4,
 "nbformat_minor": 5
}
