{
 "cells": [
  {
   "cell_type": "code",
   "execution_count": 1,
   "id": "ready-exhibit",
   "metadata": {},
   "outputs": [],
   "source": [
    "import pandas as pd\n",
    "import numpy as np\n",
    "import matplotlib.pyplot as plt\n",
    "import seaborn as sns\n",
    "import os"
   ]
  },
  {
   "cell_type": "code",
   "execution_count": 2,
   "id": "pressing-composite",
   "metadata": {},
   "outputs": [],
   "source": [
    "def load_allele_frequencies(use_data):\n",
    "    '''\n",
    "    Loads allele frequency data as seen from STRidER (https://strider.online/frequencies)\n",
    "    '''\n",
    "    allele_freq_dict = {} # data to be returned\n",
    "    if use_data == 'strider':\n",
    "        # Reading the data inside the xml file to a variable under the name data\n",
    "        with open('STRidER_frequencies_2019-08-02.xml', 'r') as f:\n",
    "            data = f.read()\n",
    "\n",
    "        # Passing the stored data inside the beautifulsoup parser, storing the returned object \n",
    "        bs_data = BeautifulSoup(data, \"xml\")\n",
    "\n",
    "        # turn xml into dict for use\n",
    "        marker_data = bs_data.find_all('marker')\n",
    "        # print(len(marker_data)) # number of markers \n",
    "        for md in marker_data:\n",
    "            loc_name = md.find('name').text # get loci name\n",
    "            allele_freq_dict[loc_name] = {}\n",
    "            \n",
    "            alleles_list = md.find('alleles').text.split(', ') # list of alleles at this site\n",
    "            origins = md.find_all('origin') # frequency data for different regions/subpopulations\n",
    "            for orig in origins:\n",
    "                orig_name = orig.get('name') # name of region\n",
    "                frequency_dict = {}\n",
    "                allele_freqs = orig.find_all('frequency') # get allele frequencies for this region\n",
    "                # add frequency data to dict for all that appear in this specific region\n",
    "                for allele in allele_freqs:\n",
    "                    al = allele.get('allele')\n",
    "                    freq = float(allele.text)\n",
    "                    frequency_dict[al] = float(allele.text)\n",
    "\n",
    "                # fill in missing alleles with frequency 0\n",
    "                for al in alleles_list:\n",
    "                    frequency_dict[al] = frequency_dict.get(al, 0)\n",
    "                    \n",
    "                al_list = list(frequency_dict.keys()) # get allele names in list\n",
    "                freq_list = list(frequency_dict.values()) # get allele frequencies in list\n",
    "                # print(sum(freq_list)) # for verifying sum to approx 1\n",
    "            \n",
    "                allele_freq_dict[loc_name][orig_name] = {'alleles': al_list} # add info to returned dict\n",
    "                allele_freq_dict[loc_name][orig_name] = {'frequency': freq_list} # add info to returned dict\n",
    "    elif use_data == 'nist':\n",
    "        # read data in\n",
    "        afam_data = pd.read_csv(os.path.join('NIST', 'NIST Fusion AfAm_Amended2017[1].csv'))\n",
    "        asian_data = pd.read_csv(os.path.join('NIST', 'NIST Fusion Asian_Amended2017[1].csv'))\n",
    "        cauc_data = pd.read_csv(os.path.join('NIST', 'NIST Fusion Cauc_Amended2017[1].csv'))\n",
    "        hisp_data = pd.read_csv(os.path.join('NIST', 'NIST Fusion Hisp_Amended2017[1].csv'))\n",
    "        data = {'AfAm': afam_data, 'Asian': asian_data, 'Cauc': cauc_data, 'Hisp': hisp_data}\n",
    "        N = []\n",
    "        for df in data.values():\n",
    "            df_n = df[df['Allele'] == 'N']\n",
    "            N.append(int(df_n.values[0][1]))\n",
    "\n",
    "            # drop allele from index\n",
    "            df.drop(df_n.index[0], axis=0, inplace=True)\n",
    "\n",
    "        # convert data to dictionaries in expected format, also combine to create a total population frequency\n",
    "        i = 0\n",
    "        total_allele_counts = {}\n",
    "        for subpop, df in data.items():\n",
    "            for col in df.drop('Allele', axis=1).columns:\n",
    "                key = col.replace('_', ' ') # standardize key values (contributor profiles use space, database uses _)\n",
    "                # column is the location name ex. D3S1358\n",
    "                allele_freq_dict[key] = {**allele_freq_dict.get(key, {}), **{subpop: {'alleles': df['Allele'], 'frequency': df[col]}}}\n",
    "\n",
    "                # update total counts of each allele\n",
    "                n = N[i]\n",
    "                for j, allele in enumerate(df['Allele']):\n",
    "                    # iterate over Series\n",
    "                    allele_freq = df.iloc[j][col] # allele frequency at current location\n",
    "                    allele_count = allele_freq * n\n",
    "                    temp_dict = total_allele_counts.get(key, {}) # get allele counts associated w/ location\n",
    "                    temp_dict[allele] = temp_dict.get(allele, 0) + allele_count  # update counts\n",
    "                    total_allele_counts[key] = temp_dict # replace counts\n",
    "            i += 1\n",
    "\n",
    "        # add total population allele frequencies to data\n",
    "        for loc, counts in total_allele_counts.items():\n",
    "            for k, v in counts.items():\n",
    "                total_allele_counts[loc][k] = v / sum(N) # normalize counts by total number of profiles\n",
    "            allele_freq_dict[loc]['total'] = {'alleles': list(counts.keys()), 'frequency': list(counts.values())}\n",
    "\n",
    "    return allele_freq_dict\n",
    "\n",
    "def load_known_sample(known_sample_path):\n",
    "    '''\n",
    "    Reads in known sample from file and puts information into a python dict with following format\n",
    "    {[site_name]: [allele1, allele2], ... }\n",
    "    '''\n",
    "    file_format = known_sample_path.split('.')[-1]\n",
    "    if file_format == 'txt':\n",
    "        # assume text file is formatted as necessary python dict\n",
    "        with open(known_sample_path, 'r') as f:\n",
    "            known_sample = eval(f.read())\n",
    "    elif file_format == 'csv':\n",
    "        data = pd.read_csv(known_sample_path)\n",
    "\n",
    "        # account for vertical format\n",
    "        if data.shape[1] < 3:\n",
    "            data.columns = data.iloc[0].values # assume there is some identifier and actual column names in first row\n",
    "            data = data.drop(0).reset_index(drop=True).transpose() # convert to horizontal orientation\n",
    "            data.columns = data.iloc[0].values # first row is the allele location\n",
    "            data.drop(data.index[0], inplace=True) # get rid of first location\n",
    "\n",
    "        data = data.iloc[0] # assume first row is desired known profile\n",
    "\n",
    "        known_sample = {}\n",
    "        for col in ['CaseNumber', 'Sample']:\n",
    "            if col in data.index:\n",
    "                data.drop(col, inplace=True)\n",
    "        for loc in data.index:\n",
    "            allele = data[loc]\n",
    "            key = loc.split('.')[0].replace('_', ' ') # standardize key values (contributor profiles use space, database uses _)\n",
    "            known_sample[key] = known_sample.get(key, []) + [allele]\n",
    "    else:\n",
    "        raise NotImplementedError('File type: .{} not yet supported'.format(file_format))\n",
    "\n",
    "    return known_sample\n",
    "\n",
    "def run_simulation(known_sample_path, allele_freq_data, subpop, num_siblings, dest_path):\n",
    "    # generate samples\n",
    "    known_sample = load_known_sample(known_sample_path)\n",
    "    sibling_samples = generate_sibling_samples(known_sample, allele_freq_data, subpop, num_siblings)\n",
    "\n",
    "    # write output to file\n",
    "    output = {}\n",
    "    col_rename = {}\n",
    "    for i, sample in enumerate([known_sample] + sibling_samples): # output first row is known sample\n",
    "        for k, v in sample.items():\n",
    "            output[k] = output.get(k, []) + [float(v[0])] # bit hacky that some are single item lists\n",
    "            output[k + '.1'] = output.get(k + '.1', []) + [float(v[1])] # bit hacky that some are single item lists\n",
    "            if i == 0:\n",
    "                col_rename[k + '.1'] = k # for renaming columns from key.1 to key to preserve same format as input\n",
    "    output = pd.DataFrame(output)\n",
    "    output = output.rename(col_rename, axis=1)\n",
    "    output.to_csv(dest_path)"
   ]
  },
  {
   "cell_type": "code",
   "execution_count": 3,
   "id": "removed-responsibility",
   "metadata": {},
   "outputs": [
    {
     "data": {
      "text/plain": [
       "0.45077610745990887"
      ]
     },
     "execution_count": 3,
     "metadata": {},
     "output_type": "execute_result"
    }
   ],
   "source": [
    "np.random.normal(0.5, 0.04)"
   ]
  },
  {
   "cell_type": "code",
   "execution_count": 22,
   "id": "distinct-auckland",
   "metadata": {},
   "outputs": [],
   "source": [
    "def generate_one_sample(known_sample, allele_freq, subpop):\n",
    "    rand_sample = {}\n",
    "    n_replaced = 0 # for validationg distribution of allele overlap b/w siblings\n",
    "    for loci, allele in known_sample.items():\n",
    "        # at each loci, choose to either replae 0, 1, or 2 alleles\n",
    "        a1, a2 = allele\n",
    "        test = np.random.random()\n",
    "        if test < 0.25:\n",
    "            # replace none\n",
    "            new_alleles = [a1, a2]\n",
    "        elif test < 0.75:\n",
    "            n_replaced += 1 # replace one\n",
    "            p = allele_freq[loci][subpop]['frequency']\n",
    "            p = p / np.sum(p) # softmax b/c frequencies don't always add to exactly 1\n",
    "            a3 = np.random.choice(a=allele_freq[loci][subpop]['alleles'], size=1, p=p)\n",
    "            if np.random.random() < 0.5:\n",
    "                # replace 1st\n",
    "                new_alleles = [a3, a2]\n",
    "            else:\n",
    "                # replace 2nd\n",
    "                new_alleles = [a1, a3]\n",
    "        else:\n",
    "            n_replaced += 2 # replace both\n",
    "            p = allele_freq[loci][subpop]['frequency']\n",
    "            p = p / np.sum(p) # softmax b/c frequencies don't always add to exactly 1\n",
    "            a3, a4 = np.random.choice(a=allele_freq[loci][subpop]['alleles'], size=2, p=p)\n",
    "            new_alleles = [a3, a4]\n",
    "        rand_sample[loci] = new_alleles\n",
    "\n",
    "    return rand_sample, n_replaced\n",
    "\n",
    "# def generate_one_sample(known_sample, allele_freq, subpop):\n",
    "#     '''\n",
    "#     Generates single possible sibling sample given known sample\n",
    "#     '''\n",
    "#     m = len(known_sample) # number of locations \n",
    "#     rand_sample = {}\n",
    "#     n_replaced = 0 # for validationg distribution of allele overlap b/w siblings\n",
    "    \n",
    "#     locations = list(known_sample.keys())\n",
    "#     prop_replace = 0.7 # np.random.normal(0.5, 0.04)\n",
    "#     replace_mom_locations_idx, replace_dad_locations_idx = np.random.randint( 0, m, (2, int(prop_replace*m)) ) \n",
    "#     # In above line, 0.7 gives proper distribution of 38-62% shared b/w siblings but unsure why\n",
    "#     replace_mom_locations = [locations[idx] for idx in replace_mom_locations_idx]\n",
    "#     replace_dad_locations = [locations[idx] for idx in replace_dad_locations_idx]\n",
    "    \n",
    "#     for loci, allele in known_sample.items():\n",
    "#         # a1, a2 = allele\n",
    "#         new_alleles = allele.copy()\n",
    "#         p = allele_freq[loci][subpop]['frequency']\n",
    "#         p = p / np.sum(p) # softmax b/c frequencies don't always add to exactly 1\n",
    "#         if loci in replace_mom_locations:\n",
    "#             a3 = np.random.choice(a=allele_freq[loci][subpop]['alleles'], size=1, p=p)\n",
    "#             new_alleles[0] = a3 # assume first allele comes from mom\n",
    "#             n_replaced += 1\n",
    "#         if loci in replace_dad_locations:\n",
    "#             a3 = np.random.choice(a=allele_freq[loci][subpop]['alleles'], size=1, p=p)\n",
    "#             new_alleles[1] = a3 # assume second allele comes from dad\n",
    "#             n_replaced += 1\n",
    "#         rand_sample[loci] = new_alleles\n",
    "    \n",
    "#     return rand_sample, n_replaced\n",
    "\n",
    "def generate_sibling_samples(known_sample, use_freq, subpop, num_siblings):\n",
    "    '''\n",
    "    Generates possible sibling DNA profiles given known sample and user-given specifications\n",
    "    '''\n",
    "    allele_freq = load_allele_frequencies(use_freq)\n",
    "    \n",
    "    N = num_siblings # number of simulated siblings\n",
    "    simulated_samples = []\n",
    "    alleles_replaced = [] # for validationg distribution of allele overlap b/w siblings\n",
    "    for i in range(N):\n",
    "        rand_sample, n_replaced = generate_one_sample(known_sample, allele_freq, subpop)\n",
    "        simulated_samples.append(rand_sample)\n",
    "        alleles_replaced.append(n_replaced)\n",
    "\n",
    "    return simulated_samples, alleles_replaced"
   ]
  },
  {
   "cell_type": "code",
   "execution_count": 5,
   "id": "durable-framework",
   "metadata": {},
   "outputs": [],
   "source": [
    "known_sample_path = '17f.csv'\n",
    "use_freq = 'nist'\n",
    "subpop = 'Cauc'\n",
    "num_siblings = 1000"
   ]
  },
  {
   "cell_type": "code",
   "execution_count": 23,
   "id": "close-machinery",
   "metadata": {},
   "outputs": [],
   "source": [
    "known_sample = load_known_sample(known_sample_path)\n",
    "sample, alleles_replaced = generate_sibling_samples(known_sample, use_freq, subpop, num_siblings)"
   ]
  },
  {
   "cell_type": "code",
   "execution_count": 27,
   "id": "blessed-duncan",
   "metadata": {},
   "outputs": [
    {
     "name": "stdout",
     "output_type": "stream",
     "text": [
      "6.5 18.90909090909091 13.009454545454544\n"
     ]
    },
    {
     "data": {
      "image/png": "[encoded data removed]",
      "text/plain": [
       "<Figure size 432x288 with 1 Axes>"
      ]
     },
     "metadata": {
      "needs_background": "light"
     },
     "output_type": "display_data"
    }
   ],
   "source": [
    "prop_overlap = [(1 - n / len(known_sample) / 2) * 26 for n in alleles_replaced] # 1 minus b/c n is number of alleles replaced\n",
    "                                                                         # divide by 2 again b/c 2 alleles at each location\n",
    "print(np.min(prop_overlap), np.max(prop_overlap), np.mean(prop_overlap))\n",
    "plt.hist(prop_overlap, density=True)\n",
    "sns.kdeplot(prop_overlap)\n",
    "plt.show()"
   ]
  },
  {
   "cell_type": "code",
   "execution_count": 21,
   "id": "traditional-trainer",
   "metadata": {},
   "outputs": [
    {
     "data": {
      "image/png": "[encoded data removed]",
      "text/plain": [
       "<Figure size 432x288 with 1 Axes>"
      ]
     },
     "metadata": {
      "needs_background": "light"
     },
     "output_type": "display_data"
    }
   ],
   "source": [
    "# compare with approximate target normal density\n",
    "sns.kdeplot(prop_overlap)\n",
    "sns.kdeplot(np.random.normal(0.5, 0.04, 1000))\n",
    "plt.show()"
   ]
  },
  {
   "cell_type": "code",
   "execution_count": null,
   "id": "subtle-fabric",
   "metadata": {},
   "outputs": [],
   "source": []
  }
 ],
 "metadata": {
  "kernelspec": {
   "display_name": "Python 3",
   "language": "python",
   "name": "python3"
  },
  "language_info": {
   "codemirror_mode": {
    "name": "ipython",
    "version": 3
   },
   "file_extension": ".py",
   "mimetype": "text/x-python",
   "name": "python",
   "nbconvert_exporter": "python",
   "pygments_lexer": "ipython3",
   "version": "3.8.5"
  }
 },
 "nbformat": 4,
 "nbformat_minor": 5
}
