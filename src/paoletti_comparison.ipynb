{
 "cells": [
  {
   "cell_type": "code",
   "execution_count": 1,
   "id": "universal-arctic",
   "metadata": {},
   "outputs": [],
   "source": [
    "import pandas as pd\n",
    "import numpy as np\n",
    "import matplotlib.pyplot as plt\n",
    "import seaborn as sns\n",
    "import json\n",
    "\n",
    "from sibulator import *"
   ]
  },
  {
   "cell_type": "code",
   "execution_count": 2,
   "id": "civilian-toolbox",
   "metadata": {},
   "outputs": [],
   "source": [
    "fbi_samples = pd.read_csv('fbi_dataset.csv').rename({'THO1':'TH01', 'THO1.1':'TH01.1'}, axis=1)\n",
    "with open('fbi_dataset_metadata.json', 'r') as f:\n",
    "    metadata = json.load(f)"
   ]
  },
  {
   "cell_type": "code",
   "execution_count": 3,
   "id": "needed-tenant",
   "metadata": {},
   "outputs": [
    {
     "data": {
      "text/html": [
       "<div>\n",
       "<style scoped>\n",
       "    .dataframe tbody tr th:only-of-type {\n",
       "        vertical-align: middle;\n",
       "    }\n",
       "\n",
       "    .dataframe tbody tr th {\n",
       "        vertical-align: top;\n",
       "    }\n",
       "\n",
       "    .dataframe thead th {\n",
       "        text-align: right;\n",
       "    }\n",
       "</style>\n",
       "<table border=\"1\" class=\"dataframe\">\n",
       "  <thead>\n",
       "    <tr style=\"text-align: right;\">\n",
       "      <th></th>\n",
       "      <th>ID#</th>\n",
       "      <th>D3S1358</th>\n",
       "      <th>D3S1358.1</th>\n",
       "      <th>vWA</th>\n",
       "      <th>vWA.1</th>\n",
       "      <th>FGA</th>\n",
       "      <th>FGA.1</th>\n",
       "      <th>D8S1179</th>\n",
       "      <th>D8S1179.1</th>\n",
       "      <th>D21S11</th>\n",
       "      <th>...</th>\n",
       "      <th>LDLR</th>\n",
       "      <th>LDLR.1</th>\n",
       "      <th>GYPA</th>\n",
       "      <th>GYPA.1</th>\n",
       "      <th>HBGG</th>\n",
       "      <th>HBGG.1</th>\n",
       "      <th>D7S8</th>\n",
       "      <th>D7S8.1</th>\n",
       "      <th>Gc</th>\n",
       "      <th>Gc.1</th>\n",
       "    </tr>\n",
       "  </thead>\n",
       "  <tbody>\n",
       "    <tr>\n",
       "      <th>0</th>\n",
       "      <td>B0600</td>\n",
       "      <td>15.0</td>\n",
       "      <td>17</td>\n",
       "      <td>15</td>\n",
       "      <td>16</td>\n",
       "      <td>23.0</td>\n",
       "      <td>27.0</td>\n",
       "      <td>12</td>\n",
       "      <td>13</td>\n",
       "      <td>28.0</td>\n",
       "      <td>...</td>\n",
       "      <td>B</td>\n",
       "      <td>B</td>\n",
       "      <td>A</td>\n",
       "      <td>A</td>\n",
       "      <td>B</td>\n",
       "      <td>B</td>\n",
       "      <td>A</td>\n",
       "      <td>A</td>\n",
       "      <td>B</td>\n",
       "      <td>B</td>\n",
       "    </tr>\n",
       "    <tr>\n",
       "      <th>1</th>\n",
       "      <td>B0601</td>\n",
       "      <td>14.0</td>\n",
       "      <td>15</td>\n",
       "      <td>16</td>\n",
       "      <td>16</td>\n",
       "      <td>23.0</td>\n",
       "      <td>24.0</td>\n",
       "      <td>14</td>\n",
       "      <td>17</td>\n",
       "      <td>28.0</td>\n",
       "      <td>...</td>\n",
       "      <td>A</td>\n",
       "      <td>B</td>\n",
       "      <td>A</td>\n",
       "      <td>B</td>\n",
       "      <td>A</td>\n",
       "      <td>B</td>\n",
       "      <td>A</td>\n",
       "      <td>A</td>\n",
       "      <td>B</td>\n",
       "      <td>B</td>\n",
       "    </tr>\n",
       "    <tr>\n",
       "      <th>2</th>\n",
       "      <td>B0602</td>\n",
       "      <td>15.0</td>\n",
       "      <td>15</td>\n",
       "      <td>16</td>\n",
       "      <td>17</td>\n",
       "      <td>24.0</td>\n",
       "      <td>25.0</td>\n",
       "      <td>11</td>\n",
       "      <td>13</td>\n",
       "      <td>30.0</td>\n",
       "      <td>...</td>\n",
       "      <td>B</td>\n",
       "      <td>B</td>\n",
       "      <td>A</td>\n",
       "      <td>B</td>\n",
       "      <td>A</td>\n",
       "      <td>B</td>\n",
       "      <td>A</td>\n",
       "      <td>A</td>\n",
       "      <td>B</td>\n",
       "      <td>C</td>\n",
       "    </tr>\n",
       "    <tr>\n",
       "      <th>3</th>\n",
       "      <td>B0603</td>\n",
       "      <td>16.0</td>\n",
       "      <td>16</td>\n",
       "      <td>17</td>\n",
       "      <td>18</td>\n",
       "      <td>21.0</td>\n",
       "      <td>22.0</td>\n",
       "      <td>11</td>\n",
       "      <td>14</td>\n",
       "      <td>27.0</td>\n",
       "      <td>...</td>\n",
       "      <td>A</td>\n",
       "      <td>A</td>\n",
       "      <td>A</td>\n",
       "      <td>A</td>\n",
       "      <td>A</td>\n",
       "      <td>B</td>\n",
       "      <td>A</td>\n",
       "      <td>B</td>\n",
       "      <td>B</td>\n",
       "      <td>C</td>\n",
       "    </tr>\n",
       "    <tr>\n",
       "      <th>4</th>\n",
       "      <td>B0604</td>\n",
       "      <td>14.0</td>\n",
       "      <td>14</td>\n",
       "      <td>14</td>\n",
       "      <td>14</td>\n",
       "      <td>20.0</td>\n",
       "      <td>27.0</td>\n",
       "      <td>12</td>\n",
       "      <td>15</td>\n",
       "      <td>29.0</td>\n",
       "      <td>...</td>\n",
       "      <td>B</td>\n",
       "      <td>B</td>\n",
       "      <td>A</td>\n",
       "      <td>A</td>\n",
       "      <td>A</td>\n",
       "      <td>B</td>\n",
       "      <td>A</td>\n",
       "      <td>B</td>\n",
       "      <td>C</td>\n",
       "      <td>C</td>\n",
       "    </tr>\n",
       "  </tbody>\n",
       "</table>\n",
       "<p>5 rows × 41 columns</p>\n",
       "</div>"
      ],
      "text/plain": [
       "     ID#  D3S1358  D3S1358.1  vWA  vWA.1   FGA  FGA.1  D8S1179  D8S1179.1  \\\n",
       "0  B0600     15.0         17   15     16  23.0   27.0       12         13   \n",
       "1  B0601     14.0         15   16     16  23.0   24.0       14         17   \n",
       "2  B0602     15.0         15   16     17  24.0   25.0       11         13   \n",
       "3  B0603     16.0         16   17     18  21.0   22.0       11         14   \n",
       "4  B0604     14.0         14   14     14  20.0   27.0       12         15   \n",
       "\n",
       "   D21S11  ...  LDLR  LDLR.1  GYPA  GYPA.1  HBGG  HBGG.1  D7S8  D7S8.1  Gc  \\\n",
       "0    28.0  ...     B       B     A       A     B       B     A       A   B   \n",
       "1    28.0  ...     A       B     A       B     A       B     A       A   B   \n",
       "2    30.0  ...     B       B     A       B     A       B     A       A   B   \n",
       "3    27.0  ...     A       A     A       A     A       B     A       B   B   \n",
       "4    29.0  ...     B       B     A       A     A       B     A       B   C   \n",
       "\n",
       "   Gc.1  \n",
       "0     B  \n",
       "1     B  \n",
       "2     C  \n",
       "3     C  \n",
       "4     C  \n",
       "\n",
       "[5 rows x 41 columns]"
      ]
     },
     "execution_count": 3,
     "metadata": {},
     "output_type": "execute_result"
    }
   ],
   "source": [
    "fbi_samples.head()"
   ]
  },
  {
   "cell_type": "code",
   "execution_count": 4,
   "id": "higher-toddler",
   "metadata": {},
   "outputs": [
    {
     "data": {
      "text/plain": [
       "{'AFRICAN AMERICAN': 210,\n",
       " 'U.S. CAUCASIAN': 203,\n",
       " 'SOUTHWESTERN HISPANIC': 209,\n",
       " 'BAHAMIAN': 162,\n",
       " 'JAMAICAN': 244,\n",
       " 'TRINIDADIAN': 85}"
      ]
     },
     "execution_count": 4,
     "metadata": {},
     "output_type": "execute_result"
    }
   ],
   "source": [
    "metadata"
   ]
  },
  {
   "cell_type": "code",
   "execution_count": 5,
   "id": "banner-stationery",
   "metadata": {},
   "outputs": [
    {
     "data": {
      "text/plain": [
       "array([   0,  210,  413,  622,  784, 1028, 1113])"
      ]
     },
     "execution_count": 5,
     "metadata": {},
     "output_type": "execute_result"
    }
   ],
   "source": [
    "starting_idx = np.cumsum([0] + list(metadata.values()))\n",
    "starting_idx"
   ]
  },
  {
   "cell_type": "code",
   "execution_count": 6,
   "id": "looking-locking",
   "metadata": {},
   "outputs": [
    {
     "name": "stdout",
     "output_type": "stream",
     "text": [
      "ID#\n",
      "HLA-DQA1\n",
      "HLA-DQA1.1\n",
      "LDLR\n",
      "LDLR.1\n",
      "GYPA\n",
      "GYPA.1\n",
      "HBGG\n",
      "HBGG.1\n",
      "D7S8\n",
      "D7S8.1\n",
      "Gc\n",
      "Gc.1\n",
      "13\n"
     ]
    }
   ],
   "source": [
    "float_cols = []\n",
    "for col in fbi_samples:\n",
    "    try:\n",
    "        fbi_samples[col] = fbi_samples[col].astype(float)\n",
    "        if '.1' not in col:\n",
    "            float_cols.append(col)\n",
    "    except:\n",
    "        print(col)\n",
    "float_cols = float_cols[:-1]\n",
    "print(len(float_cols)) # number of loci"
   ]
  },
  {
   "cell_type": "code",
   "execution_count": 7,
   "id": "abandoned-toilet",
   "metadata": {},
   "outputs": [],
   "source": [
    "known_samples = []\n",
    "for i, row in fbi_samples.iterrows():\n",
    "    sample = {}\n",
    "    for col in float_cols:\n",
    "        sample[col] = row[[col, col + '.1']].values.tolist()\n",
    "    known_samples.append(sample)"
   ]
  },
  {
   "cell_type": "code",
   "execution_count": 16,
   "id": "chicken-render",
   "metadata": {},
   "outputs": [
    {
     "data": {
      "text/plain": [
       "23"
      ]
     },
     "execution_count": 16,
     "metadata": {},
     "output_type": "execute_result"
    }
   ],
   "source": [
    "len(allele_freq.keys())"
   ]
  },
  {
   "cell_type": "code",
   "execution_count": 11,
   "id": "tested-intelligence",
   "metadata": {},
   "outputs": [
    {
     "name": "stdout",
     "output_type": "stream",
     "text": [
      "AFRICAN AMERICAN\n",
      "U.S. CAUCASIAN\n",
      "SOUTHWESTERN HISPANIC\n",
      "BAHAMIAN\n",
      "JAMAICAN\n",
      "TRINIDADIAN\n"
     ]
    }
   ],
   "source": [
    "use_freq = 'nist'\n",
    "allele_freq = load_allele_frequencies(use_freq)\n",
    "overlaps_by_subpop = {}\n",
    "for i, subpop in enumerate(metadata.keys()):\n",
    "    print(subpop)\n",
    "    if subpop == 'AFRICAN AMERICAN':\n",
    "        subpop = 'AfAm'\n",
    "    elif subpop == 'U.S. CAUCASIAN':\n",
    "        subpop = 'Cauc'\n",
    "    elif subpop == 'SOUTHWESTERN HISPANIC':\n",
    "        subpop = 'Hisp'\n",
    "    else:\n",
    "        continue\n",
    "        \n",
    "    start_idx = starting_idx[i]\n",
    "    end_idx = starting_idx[i+1]\n",
    "    subpop_samples = known_samples[start_idx:end_idx]\n",
    "    sample_overlaps = []\n",
    "    for sample in subpop_samples:\n",
    "        sim_sample = generate_one_sample(sample, allele_freq, subpop)\n",
    "        \n",
    "        overlap = 0\n",
    "        for k in sample.keys():\n",
    "            ks_alleles = sample[k]\n",
    "            ss_alleles = sim_sample[k]\n",
    "            overlap_conditions = [ks_alleles[0] == ss_alleles[0], # first ones same\n",
    "                                  ks_alleles[1] == ss_alleles[1], # second ones same\n",
    "                                  ks_alleles[0] == ss_alleles[1] and not ks_alleles[0] == ks_alleles[1], # first is same as second, hetero\n",
    "                                  ks_alleles[1] == ss_alleles[0] and not ks_alleles[0] == ks_alleles[1]] # second is same as first, hetero\n",
    "            # print(ks_alleles[0], ks_alleles[1], ss_alleles[0], ss_alleles[1])\n",
    "            overlap +=  np.sum(overlap_conditions)\n",
    "        sample_overlaps.append( overlap )\n",
    "    overlaps_by_subpop[subpop] = sample_overlaps\n",
    "# for sample in known_samples[:10]:\n",
    "#     sample = generate_sibling_samples(known_sample, use_freq, subpop, num_siblings)"
   ]
  },
  {
   "cell_type": "code",
   "execution_count": 13,
   "id": "clean-engineering",
   "metadata": {},
   "outputs": [
    {
     "name": "stdout",
     "output_type": "stream",
     "text": [
      "210\n",
      "203\n",
      "209\n"
     ]
    },
    {
     "data": {
      "image/png": "[encoded data removed]",
      "text/plain": [
       "<Figure size 1080x360 with 3 Axes>"
      ]
     },
     "metadata": {
      "needs_background": "light"
     },
     "output_type": "display_data"
    }
   ],
   "source": [
    "fig, axes = plt.subplots(1, 3, figsize=(15, 5))\n",
    "axes = axes.flat\n",
    "for i, (k, v) in enumerate(overlaps_by_subpop.items()):\n",
    "    print(len(v))\n",
    "    sns.histplot(v, bins=np.linspace(0,26,27), kde=True, ax=axes[i])\n",
    "    axes[i].set_title(k)\n",
    "plt.show()"
   ]
  },
  {
   "cell_type": "code",
   "execution_count": 14,
   "id": "controlling-blade",
   "metadata": {},
   "outputs": [
    {
     "data": {
      "image/png": "[encoded data removed]",
      "text/plain": [
       "<Figure size 720x360 with 1 Axes>"
      ]
     },
     "metadata": {
      "needs_background": "light"
     },
     "output_type": "display_data"
    }
   ],
   "source": [
    "combined_overlaps = []\n",
    "for k, v in overlaps_by_subpop.items():\n",
    "    combined_overlaps += v\n",
    "\n",
    "plt.figure(figsize=(10,5))\n",
    "for i, (k, v) in enumerate(overlaps_by_subpop.items()):\n",
    "    sns.histplot(v, bins=np.linspace(0,26,27), kde=True, color=plt.cm.Pastel1(i), label='{} - {}'.format(k, len(v)))\n",
    "sns.histplot(combined_overlaps, bins=np.linspace(0,26,27), kde=True, color=plt.cm.Pastel1(3), label='Combined')\n",
    "plt.legend()\n",
    "plt.show()"
   ]
  },
  {
   "cell_type": "code",
   "execution_count": null,
   "id": "suited-scottish",
   "metadata": {},
   "outputs": [],
   "source": []
  }
 ],
 "metadata": {
  "kernelspec": {
   "display_name": "Python 3",
   "language": "python",
   "name": "python3"
  },
  "language_info": {
   "codemirror_mode": {
    "name": "ipython",
    "version": 3
   },
   "file_extension": ".py",
   "mimetype": "text/x-python",
   "name": "python",
   "nbconvert_exporter": "python",
   "pygments_lexer": "ipython3",
   "version": "3.8.5"
  }
 },
 "nbformat": 4,
 "nbformat_minor": 5
}
